{
 "cells": [
  {
   "cell_type": "code",
   "execution_count": 1,
   "metadata": {},
   "outputs": [],
   "source": [
    "#1.1\tWrite a Python Program to implement your own myreduce() \n",
    "#function which works exactly like Python's built-in function reduce()\n",
    "#Reduce function\n",
    "\n",
    "#Function for Sum\n",
    "def sum(list_numbers): \n",
    "    #initialise variable for the list index\n",
    "    result = 0\n",
    "    y=0\n",
    "    # add the first number and second number with referenced index\n",
    "    result = list_numbers[y]+list_numbers[y+1]\n",
    "    #Now we have added o and 1 st index numbers from list so increment the index to takefrom the 3 value for loop\n",
    "    y=2\n",
    "    #For loop for adding the numbers from index 3 the list  till last value\n",
    "    for x in list_numbers:\n",
    "        result = result+list_numbers[y]\n",
    "        y = y + 1\n",
    "        if y >= len(list_numbers):\n",
    "            break\n",
    "    return result\n",
    "\n",
    "#Function Sutraction\n",
    "def subt(list_numbers): \n",
    "    #initialise variable for the list index\n",
    "    result = 0\n",
    "    y=0\n",
    "    # add the first number and second number with referenced index\n",
    "    result = list_numbers[y]-list_numbers[y+1]\n",
    "    #Now we have subtracted o and 1 st index numbers from list so increment the index to takefrom the 3 value for loop\n",
    "    y=2\n",
    "    #For loop for substract the numbers from index 3 the list  till last value\n",
    "    for x in list_numbers:\n",
    "        result = result-list_numbers[y]\n",
    "        y = y + 1\n",
    "        if y >= len(list_numbers):\n",
    "            break\n",
    "    return result\n",
    "\n",
    "#Function Division\n",
    "def divi(list_numbers): \n",
    "    #initialise variable for the list index\n",
    "    result = 0\n",
    "    y=0\n",
    "    # add the first number and second number with referenced index\n",
    "    result = list_numbers[y]/list_numbers[y+1]\n",
    "    #Now we have divided o and 1 st index numbers from list so increment the index to takefrom the 3 value for loop\n",
    "    y=2\n",
    "    #For loop for divide the numbers from index 3 the list  till last value\n",
    "    for x in list_numbers:\n",
    "        result = result/list_numbers[y]\n",
    "        y = y + 1\n",
    "        if y >= len(list_numbers):\n",
    "            break\n",
    "    return result\n",
    "\n",
    "#Function Multiply\n",
    "def multi(list_numbers): \n",
    "    #initialise variable for the list index\n",
    "    result = 0\n",
    "    y=0\n",
    "    # add the first number and second number with referenced index\n",
    "    result = list_numbers[y]*list_numbers[y+1]\n",
    "    #Now we have added o and 1 st index numbers from list so increment the index to takefrom the 3 value for loop\n",
    "    y=2\n",
    "    #For loop for adding the numbers from index 3 the list  till last value\n",
    "    for x in list_numbers:\n",
    "        result = result*list_numbers[y]\n",
    "        y = y + 1\n",
    "        if y >= len(list_numbers):\n",
    "            break\n",
    "    return result"
   ]
  },
  {
   "cell_type": "code",
   "execution_count": 4,
   "metadata": {},
   "outputs": [
    {
     "name": "stdout",
     "output_type": "stream",
     "text": [
      " Sum of numbers : 150\n",
      " Subtraction : 680\n",
      " Division : 0.5\n",
      " Multiplication : 12000000\n"
     ]
    }
   ],
   "source": [
    "print(\" Sum of numbers :\", sum([10,20,30,40,50]))\n",
    "print(\" Subtraction :\", subt([1000,200,30,40,50]))\n",
    "print(\" Division :\", divi([1000,200,5,2,1]))\n",
    "print(\" Multiplication :\", multi([10,20,30,40,50]))\n"
   ]
  },
  {
   "cell_type": "code",
   "execution_count": 18,
   "metadata": {},
   "outputs": [],
   "source": [
    "#Write a Python program to implement your own myfilter() function which works exactly like Python's built-in function filter() \n",
    "#Filter Function\n",
    "# Negative Numbers\n",
    "def filter_negative(list_numbers): \n",
    "    #initialise variable for the list index\n",
    "    result = []\n",
    "    #For loop for to fetch the numbers  \n",
    "    for x in list_numbers:\n",
    "        #Compare if the number is <0 to find negative add to the result list\n",
    "        if x < 0:\n",
    "            result.append(x)\n",
    "    return result\n",
    "\n",
    "\n",
    "# word filter\n",
    "def filter_word(list_words): \n",
    "    #initialise variable for the list index\n",
    "    result = []\n",
    "    y=['BA','CA','AL']\n",
    "    #For loop for to fetch the numbers  \n",
    "    for x in list_words:\n",
    "        #Compare if the 2 letters defined is in the substring of the word. Covert both to lower to avoid pattern mismatch \n",
    "        #Add to the result list\n",
    "        for z in y:\n",
    "            if z.lower() in x[0:2].lower():\n",
    "                result.append(x)\n",
    "    return result\n"
   ]
  },
  {
   "cell_type": "code",
   "execution_count": 19,
   "metadata": {},
   "outputs": [
    {
     "name": "stdout",
     "output_type": "stream",
     "text": [
      "Negative Numbers:  [-5, -10]\n",
      "Filter Words : ['Battery', 'battery', 'catalogue', 'all', 'ALL']\n"
     ]
    }
   ],
   "source": [
    "print(\"Negative Numbers: \",filter_negative([1,3,-5,8,9,-10,20]) )\n",
    "print(\"Filter Words :\", filter_word(['Battery','battery','catalogue','all','ALL']))"
   ]
  },
  {
   "cell_type": "code",
   "execution_count": null,
   "metadata": {},
   "outputs": [],
   "source": [
    "#Implement List comprehensions to produce the following lists.\n",
    "#Write List comprehensions to produce the following Lists\n",
    "#['A', 'C', 'A', 'D', 'G', 'I', ’L’, ‘ D’]\n",
    "#['x', 'xx', 'xxx', 'xxxx', 'y', 'yy', 'yyy', 'yyyy', 'z', 'zz', 'zzz', 'zzzz']\n",
    "#['x', 'y', 'z', 'xx', 'yy', 'zz', 'xxx', 'yyy', 'zzz', 'xxxx', 'yyyy', 'zzzz']\n",
    "#[[2], [3], [4], [3], [4], [5], [4], [5], [6]]\n",
    "#[[2, 3, 4, 5], [3, 4, 5, 6], [4, 5, 6, 7], [5, 6, 7, 8]]\n",
    "#[(1, 1), (2, 1), (3, 1), (1, 2), (2, 2), (3, 2), (1, 3), (2, 3), (3, 3)]"
   ]
  },
  {
   "cell_type": "code",
   "execution_count": 4,
   "metadata": {},
   "outputs": [],
   "source": [
    "#Write List comprehensions to produce the following Lists \n",
    " #['A', 'C', 'A', 'D', 'G', 'I', ’L’, ‘ D’] \n",
    "#Function to get th words -Normal loop method\n",
    "def getword(words): \n",
    "    #initialise variable for the result list \n",
    "    result = []\n",
    "    #For loop for splitting the letters\n",
    "    for x in words:\n",
    "        result.append(x)\n",
    "    return result"
   ]
  },
  {
   "cell_type": "code",
   "execution_count": 6,
   "metadata": {},
   "outputs": [
    {
     "data": {
      "text/plain": [
       "['A', 'C', 'A', 'D', 'G', 'I', 'L', 'D']"
      ]
     },
     "execution_count": 6,
     "metadata": {},
     "output_type": "execute_result"
    }
   ],
   "source": [
    "getword(\"ACADGILD\")"
   ]
  },
  {
   "cell_type": "code",
   "execution_count": 7,
   "metadata": {},
   "outputs": [
    {
     "name": "stdout",
     "output_type": "stream",
     "text": [
      "ACADGILD => ['A', 'C', 'A', 'D', 'G', 'I', 'L', 'D']\n"
     ]
    }
   ],
   "source": [
    "#Write List comprehensions to produce the following Lists\n",
    "#['A', 'C', 'A', 'D', 'G', 'I', ’L’, ‘ D’]\n",
    "# Compress loop into a single list comprehension using technique [i <Upper for condition> <lower for condition>]\n",
    "\n",
    "word = \"ACADGILD\"\n",
    "alphabet_list = [x for x in word if x !=\" \"]\n",
    "print (\"ACADGILD => \" + str(alphabet_list))"
   ]
  },
  {
   "cell_type": "code",
   "execution_count": 8,
   "metadata": {},
   "outputs": [
    {
     "name": "stdout",
     "output_type": "stream",
     "text": [
      "['x','y','z'] => ['x', 'xx', 'xxx', 'xxxx', 'y', 'yy', 'yyy', 'yyyy', 'z', 'zz', 'zzz', 'zzzz']\n"
     ]
    }
   ],
   "source": [
    "#Write List comprehensions to produce the following Lists\n",
    "#['x', 'xx', 'xxx', 'xxxx', 'y', 'yy', 'yyy', 'yyyy', 'z', 'zz', 'zzz', 'zzzz']\n",
    "# Compress loop into a single list comprehension using technique [i <Upper for condition> <lower for condition>]\n",
    "input_list = ['x','y','z']\n",
    "result = [ item*num for item in input_list for num in range(1,5)  ]\n",
    "print(\"['x','y','z'] => \" +   str(result))"
   ]
  },
  {
   "cell_type": "code",
   "execution_count": 4,
   "metadata": {},
   "outputs": [
    {
     "name": "stdout",
     "output_type": "stream",
     "text": [
      "['x','y','z'] => ['x', 'y', 'z', 'xx', 'yy', 'zz', 'xxx', 'yyy', 'zzz', 'xxxx', 'yyyy', 'zzzz']\n"
     ]
    }
   ],
   "source": [
    "#Implement List comprehensions to produce the following lists.\n",
    "#Write List comprehensions to produce the following Lists\n",
    "#['x', 'y', 'z', 'xx', 'yy', 'zz', 'xxx', 'yyy', 'zzz', 'xxxx', 'yyyy', 'zzzz']\n",
    "# Compress loop into a single list comprehension using technique [i <Upper for condition> <lower for condition>]\n",
    "input_list = ['x','y','z']\n",
    "result = [ item*num for num in range(1,5) for item in input_list  ]\n",
    "print(\"['x','y','z'] => \" +   str(result))\n"
   ]
  },
  {
   "cell_type": "code",
   "execution_count": 5,
   "metadata": {},
   "outputs": [
    {
     "name": "stdout",
     "output_type": "stream",
     "text": [
      "[2,3,4] =>[[2], [3], [4], [3], [4], [5], [4], [5], [6]]\n"
     ]
    }
   ],
   "source": [
    "#Implement List comprehensions to produce the following lists.\n",
    "#Write List comprehensions to produce the following Lists\n",
    "#[[2], [3], [4], [3], [4], [5], [4], [5], [6]]\n",
    "# Compress loop into a single list comprehension using technique [<i - result> <Upper for condition> <lower for condition>]\n",
    "input_list = [2,3,4]\n",
    "result = [ [item+num] for item in input_list for num in range(0,3)]\n",
    "print(\"[2,3,4] =>\" +  str(result))"
   ]
  },
  {
   "cell_type": "code",
   "execution_count": 6,
   "metadata": {},
   "outputs": [
    {
     "name": "stdout",
     "output_type": "stream",
     "text": [
      "[2,3,4,5] =>[[2, 3, 4, 5], [3, 4, 5, 6], [4, 5, 6, 7], [5, 6, 7, 8]]\n"
     ]
    }
   ],
   "source": [
    "#Implement List comprehensions to produce the following lists.\n",
    "#Write List comprehensions to produce the following Lists\n",
    "#[[2, 3, 4, 5], [3, 4, 5, 6], [4, 5, 6, 7], [5, 6, 7, 8]]\n",
    "# Compress loop into a single list comprehension using technique [<i - result> <Upper for condition> <lower for condition>]\n",
    "\n",
    "input_list = [2,3,4,5]\n",
    "result = [ [item+num for item in input_list] for num in range(0,4)  ]\n",
    "print(\"[2,3,4,5] =>\" +  str(result))"
   ]
  },
  {
   "cell_type": "code",
   "execution_count": 7,
   "metadata": {},
   "outputs": [
    {
     "name": "stdout",
     "output_type": "stream",
     "text": [
      "[1,2,3] =>[(1, 1), (2, 1), (3, 1), (1, 2), (2, 2), (3, 2), (1, 3), (2, 3), (3, 3)]\n"
     ]
    }
   ],
   "source": [
    "#Implement List comprehensions to produce the following lists.\n",
    "#Write List comprehensions to produce the following Lists\n",
    "#[(1, 1), (2, 1), (3, 1), (1, 2), (2, 2), (3, 2), (1, 3), (2, 3), (3, 3)]\n",
    "\n",
    "# Compress loop into list comprehension using technique [<i - result> <Upper for condition> <lower for condition>]\n",
    "input_list=[1,2,3]\n",
    "result = [ (b,a) for a in input_list for b in input_list]\n",
    "print(\"[1,2,3] =>\" +  str(result))"
   ]
  },
  {
   "cell_type": "code",
   "execution_count": 19,
   "metadata": {},
   "outputs": [],
   "source": [
    "#Implement a function longestWord() that takes a list of words and returns the longest one.\n",
    "def longest_word(wordlist):\n",
    "    #Initialise the length and the longest word\n",
    "    longestWord = []\n",
    "    max_len = 0\n",
    "   \n",
    "    #Loop to read the words one by one and check the length and compare for greatest and assign to thelongest word\n",
    "    for word in wordlist:\n",
    "        if len(word) >= max_len:\n",
    "            max_len = len(word)\n",
    "            longestWord = word\n",
    "           \n",
    "    return longestWord"
   ]
  },
  {
   "cell_type": "code",
   "execution_count": 20,
   "metadata": {},
   "outputs": [
    {
     "data": {
      "text/plain": [
       "'Roshini'"
      ]
     },
     "execution_count": 20,
     "metadata": {},
     "output_type": "execute_result"
    }
   ],
   "source": [
    "longest_word(['Meenal','Roshini','Latha','Manoj','Mukul'])"
   ]
  },
  {
   "cell_type": "code",
   "execution_count": null,
   "metadata": {},
   "outputs": [],
   "source": []
  }
 ],
 "metadata": {
  "kernelspec": {
   "display_name": "Python 3",
   "language": "python",
   "name": "python3"
  },
  "language_info": {
   "codemirror_mode": {
    "name": "ipython",
    "version": 3
   },
   "file_extension": ".py",
   "mimetype": "text/x-python",
   "name": "python",
   "nbconvert_exporter": "python",
   "pygments_lexer": "ipython3",
   "version": "3.7.0"
  }
 },
 "nbformat": 4,
 "nbformat_minor": 2
}
